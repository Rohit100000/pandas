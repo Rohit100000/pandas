{
 "cells": [
  {
   "cell_type": "code",
   "execution_count": null,
   "id": "4bc7d4b2-a985-4045-8200-ee24356b1584",
   "metadata": {},
   "outputs": [],
   "source": [
    "#DELETE#"
   ]
  },
  {
   "cell_type": "code",
   "execution_count": 5,
   "id": "30d3c3d5-1fe8-485c-87d0-5eb323228246",
   "metadata": {},
   "outputs": [
    {
     "name": "stdout",
     "output_type": "stream",
     "text": [
      "   a     h\n",
      "0  1     2\n",
      "1  2    31\n",
      "2  3  3211\n",
      "3  4    21\n",
      "4  5    21\n",
      "0    1\n",
      "1    2\n",
      "2    3\n",
      "3    4\n",
      "4    5\n",
      "Name: a, dtype: int64\n"
     ]
    }
   ],
   "source": [
    "import pandas as pd\n",
    "var5 = pd.DataFrame({\"a\":[1,2,3,4,5],\"h\":[2,31,3211,21,21]})\n",
    "print(var5)\n",
    "varr = var5.pop(\"a\")\n",
    "print(varr)"
   ]
  },
  {
   "cell_type": "code",
   "execution_count": 3,
   "id": "277c4edb-3a17-48c9-b2e9-06410cae4314",
   "metadata": {},
   "outputs": [
    {
     "data": {
      "text/html": [
       "<div>\n",
       "<style scoped>\n",
       "    .dataframe tbody tr th:only-of-type {\n",
       "        vertical-align: middle;\n",
       "    }\n",
       "\n",
       "    .dataframe tbody tr th {\n",
       "        vertical-align: top;\n",
       "    }\n",
       "\n",
       "    .dataframe thead th {\n",
       "        text-align: right;\n",
       "    }\n",
       "</style>\n",
       "<table border=\"1\" class=\"dataframe\">\n",
       "  <thead>\n",
       "    <tr style=\"text-align: right;\">\n",
       "      <th></th>\n",
       "      <th>h</th>\n",
       "    </tr>\n",
       "  </thead>\n",
       "  <tbody>\n",
       "    <tr>\n",
       "      <th>0</th>\n",
       "      <td>2</td>\n",
       "    </tr>\n",
       "    <tr>\n",
       "      <th>1</th>\n",
       "      <td>31</td>\n",
       "    </tr>\n",
       "    <tr>\n",
       "      <th>2</th>\n",
       "      <td>3211</td>\n",
       "    </tr>\n",
       "    <tr>\n",
       "      <th>3</th>\n",
       "      <td>21</td>\n",
       "    </tr>\n",
       "    <tr>\n",
       "      <th>4</th>\n",
       "      <td>21</td>\n",
       "    </tr>\n",
       "  </tbody>\n",
       "</table>\n",
       "</div>"
      ],
      "text/plain": [
       "      h\n",
       "0     2\n",
       "1    31\n",
       "2  3211\n",
       "3    21\n",
       "4    21"
      ]
     },
     "execution_count": 3,
     "metadata": {},
     "output_type": "execute_result"
    }
   ],
   "source": [
    "var5"
   ]
  },
  {
   "cell_type": "code",
   "execution_count": 4,
   "id": "86f38519-f9f2-4615-b6e4-cde0d24e2348",
   "metadata": {},
   "outputs": [
    {
     "data": {
      "text/html": [
       "<div>\n",
       "<style scoped>\n",
       "    .dataframe tbody tr th:only-of-type {\n",
       "        vertical-align: middle;\n",
       "    }\n",
       "\n",
       "    .dataframe tbody tr th {\n",
       "        vertical-align: top;\n",
       "    }\n",
       "\n",
       "    .dataframe thead th {\n",
       "        text-align: right;\n",
       "    }\n",
       "</style>\n",
       "<table border=\"1\" class=\"dataframe\">\n",
       "  <thead>\n",
       "    <tr style=\"text-align: right;\">\n",
       "      <th></th>\n",
       "    </tr>\n",
       "  </thead>\n",
       "  <tbody>\n",
       "    <tr>\n",
       "      <th>0</th>\n",
       "    </tr>\n",
       "    <tr>\n",
       "      <th>1</th>\n",
       "    </tr>\n",
       "    <tr>\n",
       "      <th>2</th>\n",
       "    </tr>\n",
       "    <tr>\n",
       "      <th>3</th>\n",
       "    </tr>\n",
       "    <tr>\n",
       "      <th>4</th>\n",
       "    </tr>\n",
       "  </tbody>\n",
       "</table>\n",
       "</div>"
      ],
      "text/plain": [
       "Empty DataFrame\n",
       "Columns: []\n",
       "Index: [0, 1, 2, 3, 4]"
      ]
     },
     "execution_count": 4,
     "metadata": {},
     "output_type": "execute_result"
    }
   ],
   "source": [
    "del var5[\"h\"]\n",
    "var5"
   ]
  },
  {
   "cell_type": "code",
   "execution_count": null,
   "id": "fde913f0-9700-43c0-b589-2958b9bec435",
   "metadata": {},
   "outputs": [],
   "source": [
    "#How to create a csv file"
   ]
  },
  {
   "cell_type": "code",
   "execution_count": 15,
   "id": "18ab0412-7378-4966-baf6-7b8c7e330cb1",
   "metadata": {},
   "outputs": [
    {
     "name": "stdout",
     "output_type": "stream",
     "text": [
      "   a  b  c\n",
      "0  1  1  1\n",
      "1  2  2  2\n",
      "2  3  3  3\n",
      "3  4  4  4\n",
      "4  5  5  5\n",
      "5  6  6  6\n"
     ]
    }
   ],
   "source": [
    "dis ={\"a\":[1,2,3,4,5,6,],\"b\":[1,2,3,4,5,6,],\"c\":[1,2,3,4,5,6,]}\n",
    "c = pd.DataFrame(dis)\n",
    "print(c)\n",
    "c.to_csv(\"test_new.csv\",index=False,header=[1,2,3])"
   ]
  },
  {
   "cell_type": "code",
   "execution_count": null,
   "id": "07f4f720-15f9-4f16-aab5-d42b5548e375",
   "metadata": {},
   "outputs": [],
   "source": []
  }
 ],
 "metadata": {
  "kernelspec": {
   "display_name": "Python 3 (ipykernel)",
   "language": "python",
   "name": "python3"
  },
  "language_info": {
   "codemirror_mode": {
    "name": "ipython",
    "version": 3
   },
   "file_extension": ".py",
   "mimetype": "text/x-python",
   "name": "python",
   "nbconvert_exporter": "python",
   "pygments_lexer": "ipython3",
   "version": "3.12.0"
  }
 },
 "nbformat": 4,
 "nbformat_minor": 5
}
